{
 "cells": [
  {
   "cell_type": "code",
   "execution_count": 24,
   "metadata": {},
   "outputs": [],
   "source": [
    "import pandas as pd\n",
    "import os\n",
    "import numpy as np\n"
   ]
  },
  {
   "cell_type": "code",
   "execution_count": null,
   "metadata": {},
   "outputs": [],
   "source": [
    "\n",
    "base_table_name = 'aqe-nta'\n",
    "df = pd.read_csv(f'data/base_tables/{base_table_name}.csv')\n",
    "df.head()"
   ]
  },
  {
   "cell_type": "code",
   "execution_count": 16,
   "metadata": {},
   "outputs": [
    {
     "data": {
      "text/plain": [
       "PM_tertiles\n",
       "Low            88\n",
       "High           87\n",
       "Medium         87\n",
       "dtype: int64"
      ]
     },
     "execution_count": 16,
     "metadata": {},
     "output_type": "execute_result"
    }
   ],
   "source": [
    "# df.drop(columns=['PM_Avg'], inplace=True)\n",
    "# df.head()\n",
    "\n",
    "df[['PM_tertiles']].value_counts()\n"
   ]
  },
  {
   "cell_type": "code",
   "execution_count": 17,
   "metadata": {},
   "outputs": [
    {
     "data": {
      "text/plain": [
       "0.8224053724053725"
      ]
     },
     "execution_count": 17,
     "metadata": {},
     "output_type": "execute_result"
    }
   ],
   "source": [
    "from oracle.classifier import ClassifierOracle\n",
    "\n",
    "oracle = ClassifierOracle()\n",
    "\n",
    "oracle.train(df, target_col='PM_tertiles')\n",
    "\n",
    "\n"
   ]
  },
  {
   "cell_type": "code",
   "execution_count": 7,
   "metadata": {},
   "outputs": [
    {
     "data": {
      "text/html": [
       "<div>\n",
       "<style scoped>\n",
       "    .dataframe tbody tr th:only-of-type {\n",
       "        vertical-align: middle;\n",
       "    }\n",
       "\n",
       "    .dataframe tbody tr th {\n",
       "        vertical-align: top;\n",
       "    }\n",
       "\n",
       "    .dataframe thead th {\n",
       "        text-align: right;\n",
       "    }\n",
       "</style>\n",
       "<table border=\"1\" class=\"dataframe\">\n",
       "  <thead>\n",
       "    <tr style=\"text-align: right;\">\n",
       "      <th></th>\n",
       "      <th>BUILDING_ID</th>\n",
       "      <th>BOROUGH</th>\n",
       "      <th>NUMBER</th>\n",
       "      <th>STREET</th>\n",
       "      <th>TOTAL_UNITS</th>\n",
       "      <th>AEP_START_DATE</th>\n",
       "      <th># OF B/C VIOLATIONS AT START</th>\n",
       "      <th>CURRENT_STATUS</th>\n",
       "      <th>DISCHARGE_DATE</th>\n",
       "      <th>AEP_ROUND</th>\n",
       "      <th>Postcode</th>\n",
       "      <th>Latitude</th>\n",
       "      <th>Longitude</th>\n",
       "      <th>Community Board</th>\n",
       "      <th>Council District</th>\n",
       "      <th>Census Tract</th>\n",
       "      <th>BIN</th>\n",
       "      <th>BBL</th>\n",
       "      <th>NTA</th>\n",
       "    </tr>\n",
       "  </thead>\n",
       "  <tbody>\n",
       "    <tr>\n",
       "      <th>0</th>\n",
       "      <td>37304</td>\n",
       "      <td>Manhattan</td>\n",
       "      <td>305</td>\n",
       "      <td>WEST 99 STREET</td>\n",
       "      <td>47</td>\n",
       "      <td>01/31/2020</td>\n",
       "      <td>401</td>\n",
       "      <td>AEP Discharged</td>\n",
       "      <td>08/17/2020</td>\n",
       "      <td>Aep Round 13</td>\n",
       "      <td>10025</td>\n",
       "      <td>40.797322</td>\n",
       "      <td>-73.972092</td>\n",
       "      <td>7</td>\n",
       "      <td>6</td>\n",
       "      <td>187</td>\n",
       "      <td>1057089.0</td>\n",
       "      <td>1.018880e+09</td>\n",
       "      <td>Upper West Side-Manhattan Valley</td>\n",
       "    </tr>\n",
       "    <tr>\n",
       "      <th>1</th>\n",
       "      <td>876311</td>\n",
       "      <td>Brooklyn</td>\n",
       "      <td>1575</td>\n",
       "      <td>EAST NEW YORK AVENUE</td>\n",
       "      <td>3</td>\n",
       "      <td>02/02/2015</td>\n",
       "      <td>155</td>\n",
       "      <td>AEP Discharged</td>\n",
       "      <td>09/21/2016</td>\n",
       "      <td>Aep Round 8</td>\n",
       "      <td>11212</td>\n",
       "      <td>40.672676</td>\n",
       "      <td>-73.909933</td>\n",
       "      <td>16</td>\n",
       "      <td>41</td>\n",
       "      <td>363</td>\n",
       "      <td>3391263.0</td>\n",
       "      <td>3.014610e+09</td>\n",
       "      <td>Ocean Hill</td>\n",
       "    </tr>\n",
       "    <tr>\n",
       "      <th>2</th>\n",
       "      <td>81496</td>\n",
       "      <td>Bronx</td>\n",
       "      <td>2118</td>\n",
       "      <td>GRAND AVENUE</td>\n",
       "      <td>3</td>\n",
       "      <td>11/12/2009</td>\n",
       "      <td>193</td>\n",
       "      <td>AEP Discharged</td>\n",
       "      <td>10/26/2016</td>\n",
       "      <td>Aep Round 3</td>\n",
       "      <td>10453</td>\n",
       "      <td>40.855688</td>\n",
       "      <td>-73.907845</td>\n",
       "      <td>5</td>\n",
       "      <td>14</td>\n",
       "      <td>251</td>\n",
       "      <td>2014166.0</td>\n",
       "      <td>2.031940e+09</td>\n",
       "      <td>University Heights (South)-Morris Heights</td>\n",
       "    </tr>\n",
       "    <tr>\n",
       "      <th>3</th>\n",
       "      <td>6247</td>\n",
       "      <td>Manhattan</td>\n",
       "      <td>411</td>\n",
       "      <td>AUDUBON AVENUE</td>\n",
       "      <td>25</td>\n",
       "      <td>01/31/2017</td>\n",
       "      <td>763</td>\n",
       "      <td>AEP Discharged</td>\n",
       "      <td>04/04/2018</td>\n",
       "      <td>Aep Round 10</td>\n",
       "      <td>10033</td>\n",
       "      <td>40.851526</td>\n",
       "      <td>-73.930284</td>\n",
       "      <td>12</td>\n",
       "      <td>10</td>\n",
       "      <td>269</td>\n",
       "      <td>1063730.0</td>\n",
       "      <td>1.021560e+09</td>\n",
       "      <td>Washington Heights (North)</td>\n",
       "    </tr>\n",
       "    <tr>\n",
       "      <th>4</th>\n",
       "      <td>9836</td>\n",
       "      <td>Manhattan</td>\n",
       "      <td>940</td>\n",
       "      <td>COLUMBUS AVENUE</td>\n",
       "      <td>12</td>\n",
       "      <td>02/01/2016</td>\n",
       "      <td>283</td>\n",
       "      <td>AEP Discharged</td>\n",
       "      <td>10/06/2016</td>\n",
       "      <td>Aep Round 9</td>\n",
       "      <td>10025</td>\n",
       "      <td>40.799394</td>\n",
       "      <td>-73.962766</td>\n",
       "      <td>7</td>\n",
       "      <td>7</td>\n",
       "      <td>193</td>\n",
       "      <td>1055966.0</td>\n",
       "      <td>1.018610e+09</td>\n",
       "      <td>Upper West Side-Manhattan Valley</td>\n",
       "    </tr>\n",
       "  </tbody>\n",
       "</table>\n",
       "</div>"
      ],
      "text/plain": [
       "   BUILDING_ID    BOROUGH NUMBER                STREET  TOTAL_UNITS  \\\n",
       "0        37304  Manhattan    305        WEST 99 STREET           47   \n",
       "1       876311   Brooklyn   1575  EAST NEW YORK AVENUE            3   \n",
       "2        81496      Bronx   2118          GRAND AVENUE            3   \n",
       "3         6247  Manhattan    411        AUDUBON AVENUE           25   \n",
       "4         9836  Manhattan    940       COLUMBUS AVENUE           12   \n",
       "\n",
       "  AEP_START_DATE  # OF B/C VIOLATIONS AT START  CURRENT_STATUS DISCHARGE_DATE  \\\n",
       "0     01/31/2020                           401  AEP Discharged     08/17/2020   \n",
       "1     02/02/2015                           155  AEP Discharged     09/21/2016   \n",
       "2     11/12/2009                           193  AEP Discharged     10/26/2016   \n",
       "3     01/31/2017                           763  AEP Discharged     04/04/2018   \n",
       "4     02/01/2016                           283  AEP Discharged     10/06/2016   \n",
       "\n",
       "      AEP_ROUND  Postcode   Latitude  Longitude  Community Board  \\\n",
       "0  Aep Round 13     10025  40.797322 -73.972092                7   \n",
       "1   Aep Round 8     11212  40.672676 -73.909933               16   \n",
       "2   Aep Round 3     10453  40.855688 -73.907845                5   \n",
       "3  Aep Round 10     10033  40.851526 -73.930284               12   \n",
       "4   Aep Round 9     10025  40.799394 -73.962766                7   \n",
       "\n",
       "   Council District  Census Tract        BIN           BBL  \\\n",
       "0                 6           187  1057089.0  1.018880e+09   \n",
       "1                41           363  3391263.0  3.014610e+09   \n",
       "2                14           251  2014166.0  2.031940e+09   \n",
       "3                10           269  1063730.0  1.021560e+09   \n",
       "4                 7           193  1055966.0  1.018610e+09   \n",
       "\n",
       "                                         NTA  \n",
       "0           Upper West Side-Manhattan Valley  \n",
       "1                                 Ocean Hill  \n",
       "2  University Heights (South)-Morris Heights  \n",
       "3                 Washington Heights (North)  \n",
       "4           Upper West Side-Manhattan Valley  "
      ]
     },
     "execution_count": 7,
     "metadata": {},
     "output_type": "execute_result"
    }
   ],
   "source": [
    "aug_name = 'Buildings_Selected_for_the_Alternative_Enforcement_Program_(AEP)'\n",
    "df_aug = pd.read_csv(f'data/join_datasets/aqe-nta/{aug_name}.csv')\n",
    "df_aug.head()\n"
   ]
  },
  {
   "cell_type": "code",
   "execution_count": 5,
   "metadata": {},
   "outputs": [
    {
     "name": "stdout",
     "output_type": "stream",
     "text": [
      "重合度: 0.015267175572519083\n"
     ]
    }
   ],
   "source": [
    "overlap = df['NTA_NAME'].isin(df_aug['Geography']).sum()\n",
    "print(f\"重合度: {overlap / len(df)}\")\n"
   ]
  },
  {
   "cell_type": "code",
   "execution_count": 8,
   "metadata": {},
   "outputs": [
    {
     "data": {
      "text/html": [
       "<div>\n",
       "<style scoped>\n",
       "    .dataframe tbody tr th:only-of-type {\n",
       "        vertical-align: middle;\n",
       "    }\n",
       "\n",
       "    .dataframe tbody tr th {\n",
       "        vertical-align: top;\n",
       "    }\n",
       "\n",
       "    .dataframe thead th {\n",
       "        text-align: right;\n",
       "    }\n",
       "</style>\n",
       "<table border=\"1\" class=\"dataframe\">\n",
       "  <thead>\n",
       "    <tr style=\"text-align: right;\">\n",
       "      <th></th>\n",
       "      <th>OBJECTID</th>\n",
       "      <th>shape</th>\n",
       "      <th>participant_code</th>\n",
       "      <th>formal_participant_name</th>\n",
       "      <th>development_code</th>\n",
       "      <th>project_name</th>\n",
       "      <th>building_name</th>\n",
       "      <th>building_number</th>\n",
       "      <th>building_type_code</th>\n",
       "      <th>building_status_type_code</th>\n",
       "      <th>...</th>\n",
       "      <th>annl_expns_amnt</th>\n",
       "      <th>annl_expns_amnt_prev_yr</th>\n",
       "      <th>pha_total_units</th>\n",
       "      <th>dev_buil_nu_entrance</th>\n",
       "      <th>ha_phn_num</th>\n",
       "      <th>ha_fax_num</th>\n",
       "      <th>ha_email_addr_text</th>\n",
       "      <th>exec_dir_phone</th>\n",
       "      <th>exec_dir_fax</th>\n",
       "      <th>exec_dir_email</th>\n",
       "    </tr>\n",
       "  </thead>\n",
       "  <tbody>\n",
       "    <tr>\n",
       "      <th>0</th>\n",
       "      <td>966</td>\n",
       "      <td>POINT (-122.509481 37.867920999000034)</td>\n",
       "      <td>CA052</td>\n",
       "      <td>HOUSING AUTHORITY OF COUNTY OF MARIN</td>\n",
       "      <td>CA052000001</td>\n",
       "      <td>Golden Gate Village</td>\n",
       "      <td>NaN</td>\n",
       "      <td>B-2</td>\n",
       "      <td>RW</td>\n",
       "      <td>INAPCP</td>\n",
       "      <td>...</td>\n",
       "      <td>-4</td>\n",
       "      <td>-4</td>\n",
       "      <td>494</td>\n",
       "      <td>CA052000001B-262</td>\n",
       "      <td>4154912525</td>\n",
       "      <td>4.154793e+09</td>\n",
       "      <td>KCarroll@marinhousing.org</td>\n",
       "      <td>4154912530</td>\n",
       "      <td>4.154793e+09</td>\n",
       "      <td>LJordan@marinhousing.org</td>\n",
       "    </tr>\n",
       "    <tr>\n",
       "      <th>1</th>\n",
       "      <td>965</td>\n",
       "      <td>POINT (-121.87320899999999 38.015911999000025)</td>\n",
       "      <td>CA011</td>\n",
       "      <td>Housing Authority of the County Contra Costa</td>\n",
       "      <td>CA011500000</td>\n",
       "      <td>EL PUEBLO</td>\n",
       "      <td>El Pueblo</td>\n",
       "      <td>40</td>\n",
       "      <td>SD</td>\n",
       "      <td>INAPCP</td>\n",
       "      <td>...</td>\n",
       "      <td>-4</td>\n",
       "      <td>-4</td>\n",
       "      <td>1058</td>\n",
       "      <td>CA011500000401</td>\n",
       "      <td>9259578045</td>\n",
       "      <td>9.253720e+09</td>\n",
       "      <td>ecampbell@contracostahousing.org</td>\n",
       "      <td>9259578011</td>\n",
       "      <td>9.253720e+09</td>\n",
       "      <td>jvillarreal@contracostahousing.org</td>\n",
       "    </tr>\n",
       "    <tr>\n",
       "      <th>2</th>\n",
       "      <td>964</td>\n",
       "      <td>POINT (-122.541754 37.998125999000024)</td>\n",
       "      <td>CA052</td>\n",
       "      <td>HOUSING AUTHORITY OF COUNTY OF MARIN</td>\n",
       "      <td>CA052000002</td>\n",
       "      <td>KRUGER PINES</td>\n",
       "      <td>NaN</td>\n",
       "      <td>GH-K</td>\n",
       "      <td>RW</td>\n",
       "      <td>INAPCP</td>\n",
       "      <td>...</td>\n",
       "      <td>-4</td>\n",
       "      <td>-4</td>\n",
       "      <td>494</td>\n",
       "      <td>CA052000002GH-K1</td>\n",
       "      <td>4154912525</td>\n",
       "      <td>4.154793e+09</td>\n",
       "      <td>KCarroll@marinhousing.org</td>\n",
       "      <td>4154912530</td>\n",
       "      <td>4.154793e+09</td>\n",
       "      <td>LJordan@marinhousing.org</td>\n",
       "    </tr>\n",
       "    <tr>\n",
       "      <th>3</th>\n",
       "      <td>963</td>\n",
       "      <td>POINT (-122.42763199999999 37.650152999000056)</td>\n",
       "      <td>CA015</td>\n",
       "      <td>City of South San Francisco Housing Authority</td>\n",
       "      <td>CA015000001</td>\n",
       "      <td>HOUSING AUTHORITY OF THE CITY OF SSF</td>\n",
       "      <td>NaN</td>\n",
       "      <td>364</td>\n",
       "      <td>RW</td>\n",
       "      <td>INAPCP</td>\n",
       "      <td>...</td>\n",
       "      <td>-4</td>\n",
       "      <td>-4</td>\n",
       "      <td>80</td>\n",
       "      <td>CA0150000013641</td>\n",
       "      <td>6505837631</td>\n",
       "      <td>6.505836e+09</td>\n",
       "      <td>sosfha@sbcglobal.net</td>\n",
       "      <td>6505837631</td>\n",
       "      <td>6.505836e+09</td>\n",
       "      <td>sosfha@sbcglobal.net</td>\n",
       "    </tr>\n",
       "    <tr>\n",
       "      <th>4</th>\n",
       "      <td>962</td>\n",
       "      <td>POINT (-122.151456 38.05722399900003)</td>\n",
       "      <td>CA041</td>\n",
       "      <td>CITY OF BENICIA HSG AUTH</td>\n",
       "      <td>CA041000001</td>\n",
       "      <td>CAPITOL HEIGHTS</td>\n",
       "      <td>Building 38, 001</td>\n",
       "      <td>38</td>\n",
       "      <td>SD</td>\n",
       "      <td>INAPCP</td>\n",
       "      <td>...</td>\n",
       "      <td>-4</td>\n",
       "      <td>-4</td>\n",
       "      <td>75</td>\n",
       "      <td>CA04100000138001</td>\n",
       "      <td>7077452071</td>\n",
       "      <td>7.077458e+09</td>\n",
       "      <td>juliep@BeniciaHousingAuthority.org</td>\n",
       "      <td>7077452071</td>\n",
       "      <td>7.077458e+09</td>\n",
       "      <td>juliep@BeniciaHousingAuthority.org</td>\n",
       "    </tr>\n",
       "  </tbody>\n",
       "</table>\n",
       "<p>5 rows × 147 columns</p>\n",
       "</div>"
      ],
      "text/plain": [
       "   OBJECTID                                           shape participant_code  \\\n",
       "0       966          POINT (-122.509481 37.867920999000034)            CA052   \n",
       "1       965  POINT (-121.87320899999999 38.015911999000025)            CA011   \n",
       "2       964          POINT (-122.541754 37.998125999000024)            CA052   \n",
       "3       963  POINT (-122.42763199999999 37.650152999000056)            CA015   \n",
       "4       962           POINT (-122.151456 38.05722399900003)            CA041   \n",
       "\n",
       "                         formal_participant_name development_code  \\\n",
       "0           HOUSING AUTHORITY OF COUNTY OF MARIN      CA052000001   \n",
       "1   Housing Authority of the County Contra Costa      CA011500000   \n",
       "2           HOUSING AUTHORITY OF COUNTY OF MARIN      CA052000002   \n",
       "3  City of South San Francisco Housing Authority      CA015000001   \n",
       "4                       CITY OF BENICIA HSG AUTH      CA041000001   \n",
       "\n",
       "                           project_name     building_name building_number  \\\n",
       "0                   Golden Gate Village               NaN             B-2   \n",
       "1                             EL PUEBLO         El Pueblo              40   \n",
       "2                          KRUGER PINES               NaN            GH-K   \n",
       "3  HOUSING AUTHORITY OF THE CITY OF SSF               NaN             364   \n",
       "4                       CAPITOL HEIGHTS  Building 38, 001              38   \n",
       "\n",
       "  building_type_code building_status_type_code  ...  annl_expns_amnt  \\\n",
       "0                 RW                    INAPCP  ...               -4   \n",
       "1                 SD                    INAPCP  ...               -4   \n",
       "2                 RW                    INAPCP  ...               -4   \n",
       "3                 RW                    INAPCP  ...               -4   \n",
       "4                 SD                    INAPCP  ...               -4   \n",
       "\n",
       "  annl_expns_amnt_prev_yr pha_total_units  dev_buil_nu_entrance  ha_phn_num  \\\n",
       "0                      -4             494      CA052000001B-262  4154912525   \n",
       "1                      -4            1058        CA011500000401  9259578045   \n",
       "2                      -4             494      CA052000002GH-K1  4154912525   \n",
       "3                      -4              80       CA0150000013641  6505837631   \n",
       "4                      -4              75      CA04100000138001  7077452071   \n",
       "\n",
       "     ha_fax_num                  ha_email_addr_text  exec_dir_phone  \\\n",
       "0  4.154793e+09           KCarroll@marinhousing.org      4154912530   \n",
       "1  9.253720e+09    ecampbell@contracostahousing.org      9259578011   \n",
       "2  4.154793e+09           KCarroll@marinhousing.org      4154912530   \n",
       "3  6.505836e+09                sosfha@sbcglobal.net      6505837631   \n",
       "4  7.077458e+09  juliep@BeniciaHousingAuthority.org      7077452071   \n",
       "\n",
       "   exec_dir_fax                      exec_dir_email  \n",
       "0  4.154793e+09            LJordan@marinhousing.org  \n",
       "1  9.253720e+09  jvillarreal@contracostahousing.org  \n",
       "2  4.154793e+09            LJordan@marinhousing.org  \n",
       "3  6.505836e+09                sosfha@sbcglobal.net  \n",
       "4  7.077458e+09  juliep@BeniciaHousingAuthority.org  \n",
       "\n",
       "[5 rows x 147 columns]"
      ]
     },
     "execution_count": 8,
     "metadata": {},
     "output_type": "execute_result"
    }
   ],
   "source": [
    "base_table_name = 'Public_Housing'\n",
    "base_df = pd.read_csv(f'data/base_tables/{base_table_name}.csv')\n",
    "base_df.head()\n"
   ]
  },
  {
   "cell_type": "markdown",
   "metadata": {},
   "source": [
    "## 左连接处理\n",
    "- 取第一个值\n",
    "- 聚合方法"
   ]
  },
  {
   "cell_type": "code",
   "execution_count": 43,
   "metadata": {},
   "outputs": [
    {
     "name": "stdout",
     "output_type": "stream",
     "text": [
      "<class 'pandas.core.frame.DataFrame'>\n",
      "RangeIndex: 4137 entries, 0 to 4136\n",
      "Data columns (total 19 columns):\n",
      " #   Column                        Non-Null Count  Dtype  \n",
      "---  ------                        --------------  -----  \n",
      " 0   BUILDING_ID                   4137 non-null   int64  \n",
      " 1   BOROUGH                       4137 non-null   object \n",
      " 2   NUMBER                        4137 non-null   object \n",
      " 3   STREET                        4137 non-null   object \n",
      " 4   TOTAL_UNITS                   4137 non-null   int64  \n",
      " 5   AEP_START_DATE                4137 non-null   object \n",
      " 6   # OF B/C VIOLATIONS AT START  4137 non-null   int64  \n",
      " 7   CURRENT_STATUS                4137 non-null   object \n",
      " 8   DISCHARGE_DATE                3198 non-null   object \n",
      " 9   AEP_ROUND                     4137 non-null   object \n",
      " 10  Postcode                      4137 non-null   int64  \n",
      " 11  Latitude                      4137 non-null   float64\n",
      " 12  Longitude                     4137 non-null   float64\n",
      " 13  Community Board               4137 non-null   int64  \n",
      " 14  Council District              4137 non-null   int64  \n",
      " 15  Census Tract                  4137 non-null   int64  \n",
      " 16  BIN                           4134 non-null   float64\n",
      " 17  BBL                           4134 non-null   float64\n",
      " 18  NTA                           4137 non-null   object \n",
      "dtypes: float64(4), int64(7), object(8)\n",
      "memory usage: 614.2+ KB\n"
     ]
    }
   ],
   "source": [
    "df_aug.info()"
   ]
  },
  {
   "cell_type": "code",
   "execution_count": 48,
   "metadata": {},
   "outputs": [
    {
     "name": "stdout",
     "output_type": "stream",
     "text": [
      "(4137, 19)\n",
      "(160, 4)\n"
     ]
    },
    {
     "data": {
      "text/html": [
       "<div>\n",
       "<style scoped>\n",
       "    .dataframe tbody tr th:only-of-type {\n",
       "        vertical-align: middle;\n",
       "    }\n",
       "\n",
       "    .dataframe tbody tr th {\n",
       "        vertical-align: top;\n",
       "    }\n",
       "\n",
       "    .dataframe thead th {\n",
       "        text-align: right;\n",
       "    }\n",
       "</style>\n",
       "<table border=\"1\" class=\"dataframe\">\n",
       "  <thead>\n",
       "    <tr style=\"text-align: right;\">\n",
       "      <th></th>\n",
       "      <th>NTA</th>\n",
       "      <th>Latitude</th>\n",
       "      <th>Longitude</th>\n",
       "      <th>CURRENT_STATUS</th>\n",
       "    </tr>\n",
       "    <tr>\n",
       "      <th>NTA</th>\n",
       "      <th></th>\n",
       "      <th></th>\n",
       "      <th></th>\n",
       "      <th></th>\n",
       "    </tr>\n",
       "  </thead>\n",
       "  <tbody>\n",
       "    <tr>\n",
       "      <th>Allerton</th>\n",
       "      <td>23</td>\n",
       "      <td>40.864187</td>\n",
       "      <td>-73.863963</td>\n",
       "      <td>AEP Discharged</td>\n",
       "    </tr>\n",
       "    <tr>\n",
       "      <th>Astoria (Central)</th>\n",
       "      <td>4</td>\n",
       "      <td>40.760405</td>\n",
       "      <td>-73.924453</td>\n",
       "      <td>AEP Active</td>\n",
       "    </tr>\n",
       "    <tr>\n",
       "      <th>Astoria (East)-Woodside (North)</th>\n",
       "      <td>4</td>\n",
       "      <td>40.760123</td>\n",
       "      <td>-73.913106</td>\n",
       "      <td>AEP Discharged</td>\n",
       "    </tr>\n",
       "    <tr>\n",
       "      <th>Astoria (North)-Ditmars-Steinway</th>\n",
       "      <td>5</td>\n",
       "      <td>40.777029</td>\n",
       "      <td>-73.908601</td>\n",
       "      <td>AEP Discharged</td>\n",
       "    </tr>\n",
       "    <tr>\n",
       "      <th>Baisley Park</th>\n",
       "      <td>1</td>\n",
       "      <td>40.674814</td>\n",
       "      <td>-73.799521</td>\n",
       "      <td>AEP Discharged</td>\n",
       "    </tr>\n",
       "  </tbody>\n",
       "</table>\n",
       "</div>"
      ],
      "text/plain": [
       "                                  NTA   Latitude  Longitude  CURRENT_STATUS\n",
       "NTA                                                                        \n",
       "Allerton                           23  40.864187 -73.863963  AEP Discharged\n",
       "Astoria (Central)                   4  40.760405 -73.924453      AEP Active\n",
       "Astoria (East)-Woodside (North)     4  40.760123 -73.913106  AEP Discharged\n",
       "Astoria (North)-Ditmars-Steinway    5  40.777029 -73.908601  AEP Discharged\n",
       "Baisley Park                        1  40.674814 -73.799521  AEP Discharged"
      ]
     },
     "execution_count": 48,
     "metadata": {},
     "output_type": "execute_result"
    }
   ],
   "source": [
    "print(df_aug.shape)\n",
    "df_agg = df_aug.groupby('NTA').agg({'NTA': 'count', 'Latitude': 'mean', 'Longitude': 'mean', 'CURRENT_STATUS': lambda x: x.mode()[0]})\n",
    "print(df_agg.shape)\n",
    "df_agg.head()\n"
   ]
  },
  {
   "cell_type": "code",
   "execution_count": 52,
   "metadata": {},
   "outputs": [
    {
     "data": {
      "text/plain": [
       "count               4137\n",
       "unique                 2\n",
       "top       AEP Discharged\n",
       "freq                3198\n",
       "Name: CURRENT_STATUS, dtype: object"
      ]
     },
     "execution_count": 52,
     "metadata": {},
     "output_type": "execute_result"
    }
   ],
   "source": [
    "\n",
    "df_aug['CURRENT_STATUS'].value_counts().index.tolist()\n",
    "df_aug['CURRENT_STATUS'].describe()\n"
   ]
  },
  {
   "cell_type": "code",
   "execution_count": 54,
   "metadata": {},
   "outputs": [],
   "source": [
    "aqe_description = \"We combine data from our air quality monitoring network, NYCCAS, with other data to understand what makes one neighborhood's air quality different from another's. We found that building emissions, building density, industrial areas, and traffic density are associated with differences in air quality.\"\n",
    "schools_description = \"2008-2009 School Progress Report\"\n",
    "base_table_info = pd.DataFrame({\n",
    "    'base_table_name': ['aqe-nta', 'schools'],\n",
    "    'target_attribute': ['PM_tertiles', '2009-2010 OVERALL GRADE'],\n",
    "    'description': [aqe_description, schools_description]\n",
    "})\n",
    "\n",
    "base_table_info.to_csv('data/base_table_info.csv', index=False)\n"
   ]
  },
  {
   "cell_type": "code",
   "execution_count": 47,
   "metadata": {},
   "outputs": [
    {
     "name": "stdout",
     "output_type": "stream",
     "text": [
      "(262, 11)\n",
      "0.8224053724053725\n",
      "column: BUILDING_ID\n",
      "(4239, 13)\n",
      "0.9908428167763206\n",
      "column: BOROUGH\n",
      "(4239, 13)\n",
      "0.9908428167763206\n",
      "column: NUMBER\n",
      "(4239, 13)\n",
      "0.9908428167763206\n",
      "column: STREET\n",
      "(4239, 13)\n",
      "0.9908428167763206\n",
      "column: TOTAL_UNITS\n",
      "(4239, 13)\n",
      "0.9908428167763206\n",
      "column: AEP_START_DATE\n",
      "(4239, 13)\n",
      "0.9908428167763206\n",
      "column: # OF B/C VIOLATIONS AT START\n",
      "(4239, 13)\n",
      "0.9908428167763206\n",
      "column: CURRENT_STATUS\n",
      "(4239, 13)\n",
      "0.9908428167763206\n",
      "column: DISCHARGE_DATE\n",
      "(4239, 13)\n",
      "0.9908428167763206\n",
      "column: AEP_ROUND\n",
      "(4239, 13)\n",
      "0.9908428167763206\n",
      "column: Postcode\n",
      "(4239, 13)\n",
      "0.9908428167763206\n",
      "column: Latitude\n",
      "(4239, 13)\n",
      "0.9908428167763206\n",
      "column: Longitude\n",
      "(4239, 13)\n",
      "0.9908428167763206\n",
      "column: Community Board\n",
      "(4239, 13)\n",
      "0.9908428167763206\n",
      "column: Council District\n",
      "(4239, 13)\n",
      "0.9908428167763206\n",
      "column: Census Tract\n",
      "(4239, 13)\n",
      "0.9908428167763206\n",
      "column: BIN\n",
      "(4239, 13)\n",
      "0.9908428167763206\n",
      "column: BBL\n",
      "(4239, 13)\n",
      "0.9908428167763206\n"
     ]
    }
   ],
   "source": [
    "from table_process import Table\n",
    "table = Table(\n",
    "    data_path=f\"data/join_datasets/aqe-nta/{aug_name}.csv\", \n",
    "    score=0.8, \n",
    "    dataset_name=aug_name, \n",
    "    left_column_name=\"NTA\", \n",
    "    right_column_name=\"NTA\", \n",
    "    size=10000\n",
    ")\n",
    "# 找出泄露的列\n",
    "oracle.train(df_merge, target_col='PM_tertiles')\n",
    "print(df.shape)\n",
    "print(oracle.train(df, target_col='PM_tertiles'))\n",
    "for col in [c for c in df_aug.columns if c != 'NTA']:\n",
    "    print(f\"column: {col}\")\n",
    "    df_merge_1 = df.merge(df_aug[[col,'NTA']], left_on=df_aug_join_info['left_columns_names'].values[0], right_on=df_aug_join_info['right_columns_names'].values[0], how='left')\n",
    "    print(df_merge_1.shape)\n",
    "    print(oracle.train(df_merge_1, target_col='PM_tertiles'))\n"
   ]
  },
  {
   "cell_type": "markdown",
   "metadata": {},
   "source": [
    "## 处理数据泄露"
   ]
  },
  {
   "cell_type": "code",
   "execution_count": 17,
   "metadata": {},
   "outputs": [
    {
     "name": "stdout",
     "output_type": "stream",
     "text": [
      "2006_-_2011_School_Progress_Reports_-_All_Schools_-__Multiyear_Summary.csv: drop column 2009-10 PROGRESS REPORT GRADE\n",
      "2006_-_2013_Citywide_Progress_Report.csv: drop column 2009-10 PROGRESS REPORT GRADE\n",
      "2007_-_2011_School_Progress_Report_Multi-year.csv: drop column 2009-10 PROGRESS REPORT GRADE\n",
      "2010_-_2011_School_Progress_Report.csv: drop column 2009-10 PROGRESS REPORT GRADE\n",
      "2011-2012_School_Progress_Report_-_All_Schools.csv: drop column 2009-10 PROGRESS REPORT GRADE\n",
      "2011_-_2012_Citywide_Progress_Report.csv: drop column 2009-10 PROGRESS REPORT GRADE\n",
      "2012_-_2013_Citywide_Progress_Report.csv: drop column 2009-10 PROGRESS REPORT GRADE\n",
      "Schools_Progress_Report_2012-2013.csv: drop column 2009-10 PROGRESS REPORT GRADE\n"
     ]
    }
   ],
   "source": [
    "data_dir = os.path.join('join_datasets/', base_table_name)\n",
    "\n",
    "for file in os.listdir(data_dir):\n",
    "    df_aug = pd.read_csv(os.path.join(data_dir, file))\n",
    "    for col in df_aug.columns:\n",
    "        if '2009' in col:\n",
    "            print(f\"{file}: drop column {col}\")\n",
    "            df_aug.drop(col, axis=1, inplace=True)\n",
    "    df_aug.to_csv(os.path.join(data_dir, file), index=False)\n",
    "\n"
   ]
  },
  {
   "cell_type": "code",
   "execution_count": 34,
   "metadata": {},
   "outputs": [
    {
     "data": {
      "text/plain": [
       "29"
      ]
     },
     "metadata": {},
     "output_type": "display_data"
    },
    {
     "data": {
      "text/plain": [
       "29"
      ]
     },
     "execution_count": 34,
     "metadata": {},
     "output_type": "execute_result"
    }
   ],
   "source": [
    "df_join_info = pd.read_csv(f'join_info/{base_table_name}_join_info.csv')\n",
    "df_join_info.head()\n",
    "\n",
    "aug_set = []\n",
    "for f in os.listdir(data_dir):\n",
    "    aug_set.append(f.split('.')[0])\n",
    "\n",
    "display(len(aug_set))\n",
    "\n",
    "df_join_info = df_join_info[df_join_info['dataset_name'].isin(aug_set)]\n",
    "\n",
    "\n",
    "df_join_info.to_csv(f'join_info/{base_table_name}_join_info.csv', index=False)\n",
    "\n",
    "len(df_join_info['dataset_name'])\n",
    "\n",
    "\n"
   ]
  },
  {
   "cell_type": "code",
   "execution_count": 13,
   "metadata": {},
   "outputs": [
    {
     "data": {
      "text/plain": [
       "'4.66.5'"
      ]
     },
     "execution_count": 13,
     "metadata": {},
     "output_type": "execute_result"
    }
   ],
   "source": [
    "from importlib_metadata import version\n",
    "\n",
    "version('tqdm')\n"
   ]
  },
  {
   "cell_type": "markdown",
   "metadata": {},
   "source": [
    "## ELSE"
   ]
  },
  {
   "cell_type": "code",
   "execution_count": null,
   "metadata": {},
   "outputs": [],
   "source": [
    "ids = ['datamart.upload.976a384921d34ca1a6304a6c7bc256d7']"
   ]
  },
  {
   "cell_type": "code",
   "execution_count": 35,
   "metadata": {},
   "outputs": [
    {
     "name": "stdout",
     "output_type": "stream",
     "text": [
      "downloading datamart.upload.976a384921d34ca1a6304a6c7bc256d7...\n"
     ]
    },
    {
     "data": {
      "text/html": [
       "<div>\n",
       "<style scoped>\n",
       "    .dataframe tbody tr th:only-of-type {\n",
       "        vertical-align: middle;\n",
       "    }\n",
       "\n",
       "    .dataframe tbody tr th {\n",
       "        vertical-align: top;\n",
       "    }\n",
       "\n",
       "    .dataframe thead th {\n",
       "        text-align: right;\n",
       "    }\n",
       "</style>\n",
       "<table border=\"1\" class=\"dataframe\">\n",
       "  <thead>\n",
       "    <tr style=\"text-align: right;\">\n",
       "      <th></th>\n",
       "      <th>FIPS</th>\n",
       "      <th>State</th>\n",
       "      <th>Area</th>\n",
       "      <th>RUCCode</th>\n",
       "      <th>POVALL_2016</th>\n",
       "    </tr>\n",
       "  </thead>\n",
       "  <tbody>\n",
       "    <tr>\n",
       "      <th>0</th>\n",
       "      <td>35005</td>\n",
       "      <td>NM</td>\n",
       "      <td>Chaves County</td>\n",
       "      <td>5</td>\n",
       "      <td>13974</td>\n",
       "    </tr>\n",
       "    <tr>\n",
       "      <th>1</th>\n",
       "      <td>13297</td>\n",
       "      <td>GA</td>\n",
       "      <td>Walton County</td>\n",
       "      <td>1</td>\n",
       "      <td>11385</td>\n",
       "    </tr>\n",
       "    <tr>\n",
       "      <th>2</th>\n",
       "      <td>13137</td>\n",
       "      <td>GA</td>\n",
       "      <td>Habersham County</td>\n",
       "      <td>6</td>\n",
       "      <td>6500</td>\n",
       "    </tr>\n",
       "    <tr>\n",
       "      <th>3</th>\n",
       "      <td>54017</td>\n",
       "      <td>WV</td>\n",
       "      <td>Doddridge County</td>\n",
       "      <td>9</td>\n",
       "      <td>1460</td>\n",
       "    </tr>\n",
       "    <tr>\n",
       "      <th>4</th>\n",
       "      <td>55055</td>\n",
       "      <td>WI</td>\n",
       "      <td>Jefferson County</td>\n",
       "      <td>4</td>\n",
       "      <td>7618</td>\n",
       "    </tr>\n",
       "  </tbody>\n",
       "</table>\n",
       "</div>"
      ],
      "text/plain": [
       "    FIPS State              Area  RUCCode  POVALL_2016\n",
       "0  35005    NM     Chaves County        5        13974\n",
       "1  13297    GA     Walton County        1        11385\n",
       "2  13137    GA  Habersham County        6         6500\n",
       "3  54017    WV  Doddridge County        9         1460\n",
       "4  55055    WI  Jefferson County        4         7618"
      ]
     },
     "execution_count": 35,
     "metadata": {},
     "output_type": "execute_result"
    }
   ],
   "source": [
    "from data.get_datasets import download_dataset\n",
    "\n",
    "id = \"datamart.upload.976a384921d34ca1a6304a6c7bc256d7\"\n",
    "\n",
    "df = download_dataset(id)\n",
    "df.head()"
   ]
  },
  {
   "cell_type": "code",
   "execution_count": 52,
   "metadata": {},
   "outputs": [],
   "source": [
    "df.to_csv(\"data/base_tables/Poverty.csv\")"
   ]
  },
  {
   "cell_type": "code",
   "execution_count": 40,
   "metadata": {},
   "outputs": [
    {
     "name": "stdout",
     "output_type": "stream",
     "text": [
      "col name:FIPS, na:0, nunique:3136\n",
      "col name:State, na:0, nunique:51\n",
      "col name:Area, na:0, nunique:1871\n",
      "col name:RUCCode, na:0, nunique:9\n",
      "col name:POVALL_2016, na:0, nunique:2790\n"
     ]
    }
   ],
   "source": [
    "for col_name, col in df.items():\n",
    "    print(f\"col name:{col_name}, na:{df[col_name].isna().sum()}, nunique:{df[col_name].nunique()}\")"
   ]
  },
  {
   "cell_type": "code",
   "execution_count": 43,
   "metadata": {},
   "outputs": [
    {
     "data": {
      "text/plain": [
       "-122.81664347133757"
      ]
     },
     "execution_count": 43,
     "metadata": {},
     "output_type": "execute_result"
    }
   ],
   "source": [
    "from oracle.regression import RegressionOracle\n",
    "\n",
    "classifier = RegressionOracle()\n",
    "classifier.train(df, 'POVALL_2016')"
   ]
  }
 ],
 "metadata": {
  "kernelspec": {
   "display_name": "d2l",
   "language": "python",
   "name": "python3"
  },
  "language_info": {
   "codemirror_mode": {
    "name": "ipython",
    "version": 3
   },
   "file_extension": ".py",
   "mimetype": "text/x-python",
   "name": "python",
   "nbconvert_exporter": "python",
   "pygments_lexer": "ipython3",
   "version": "3.9.19"
  }
 },
 "nbformat": 4,
 "nbformat_minor": 2
}
